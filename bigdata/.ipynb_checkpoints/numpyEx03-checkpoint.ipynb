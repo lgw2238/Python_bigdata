{
 "cells": [
  {
   "cell_type": "code",
   "execution_count": null,
   "id": "9227f0d3",
   "metadata": {},
   "outputs": [],
   "source": [
    "'''\n",
    "# sort 명령이나 메소드를 사용하여 배열 안의 원소를 크기에 따라 정렬하면 새로운 배열을 만들 수 있다는\n",
    "아이디어 2차원 이상인 경우는 행이나 열을 각각 따로 정렬할 수 있음. axis 인수 이용하여 결정\n",
    "axis = 0 행 정렬, axis = 1 : 열 정렬 \n",
    "\n",
    "'''"
   ]
  },
  {
   "cell_type": "code",
   "execution_count": 7,
   "id": "681f0682",
   "metadata": {},
   "outputs": [],
   "source": [
    "import numpy as np"
   ]
  },
  {
   "cell_type": "code",
   "execution_count": 5,
   "id": "94c82930",
   "metadata": {},
   "outputs": [
    {
     "data": {
      "text/plain": [
       "array([[ 4,  3,  5,  6],\n",
       "       [ 1, 12, 11,  9],\n",
       "       [ 2, 15,  1, 18]])"
      ]
     },
     "execution_count": 5,
     "metadata": {},
     "output_type": "execute_result"
    }
   ],
   "source": [
    "a = np.array([[4,3,5,6],\n",
    "              [1,12,11,9],\n",
    "              [2,15,1,18]])\n",
    "a"
   ]
  },
  {
   "cell_type": "code",
   "execution_count": 6,
   "id": "4c5e5e20",
   "metadata": {},
   "outputs": [
    {
     "data": {
      "text/plain": [
       "array([[ 3,  4,  5,  6],\n",
       "       [ 1,  9, 11, 12],\n",
       "       [ 1,  2, 15, 18]])"
      ]
     },
     "execution_count": 6,
     "metadata": {},
     "output_type": "execute_result"
    }
   ],
   "source": [
    "np.sort(a)"
   ]
  },
  {
   "cell_type": "code",
   "execution_count": 8,
   "id": "e43426a1",
   "metadata": {},
   "outputs": [
    {
     "data": {
      "text/plain": [
       "array([[ 1,  3,  1,  6],\n",
       "       [ 2, 12,  5,  9],\n",
       "       [ 4, 15, 11, 18]])"
      ]
     },
     "execution_count": 8,
     "metadata": {},
     "output_type": "execute_result"
    }
   ],
   "source": [
    "np.sort(a, axis=0)"
   ]
  },
  {
   "cell_type": "code",
   "execution_count": 9,
   "id": "6629b79b",
   "metadata": {},
   "outputs": [
    {
     "data": {
      "text/plain": [
       "array([[ 3,  4,  5,  6],\n",
       "       [ 1,  9, 11, 12],\n",
       "       [ 1,  2, 15, 18]])"
      ]
     },
     "execution_count": 9,
     "metadata": {},
     "output_type": "execute_result"
    }
   ],
   "source": [
    "np.sort(a, axis=1)"
   ]
  },
  {
   "cell_type": "code",
   "execution_count": 10,
   "id": "f8eb3bc5",
   "metadata": {},
   "outputs": [
    {
     "data": {
      "text/plain": [
       "array([4, 3, 1, 2])"
      ]
     },
     "execution_count": 10,
     "metadata": {},
     "output_type": "execute_result"
    }
   ],
   "source": [
    "# argsort() : 인덱스 정렬 순서(번호)를 알고 싶을 때 어떤 순서로 정렬 될 지 그 인덱스 번호만 알려주는 함수\n",
    "b = np.array([4,3,1,2])\n",
    "b"
   ]
  },
  {
   "cell_type": "code",
   "execution_count": 14,
   "id": "66818917",
   "metadata": {},
   "outputs": [
    {
     "name": "stdout",
     "output_type": "stream",
     "text": [
      "[2 3 1 0]\n"
     ]
    }
   ],
   "source": [
    "i = np.argsort(b)\n",
    "print(i)"
   ]
  },
  {
   "cell_type": "code",
   "execution_count": 15,
   "id": "71291353",
   "metadata": {},
   "outputs": [
    {
     "data": {
      "text/plain": [
       "array([1, 2, 3, 4])"
      ]
     },
     "execution_count": 15,
     "metadata": {},
     "output_type": "execute_result"
    }
   ],
   "source": [
    "b[i]"
   ]
  },
  {
   "cell_type": "code",
   "execution_count": null,
   "id": "51a33d20",
   "metadata": {},
   "outputs": [],
   "source": [
    "'''\n",
    "# 배열 나누기(쪼개기) : array_split\n",
    "'''"
   ]
  },
  {
   "cell_type": "code",
   "execution_count": 16,
   "id": "8e2b3f54",
   "metadata": {},
   "outputs": [],
   "source": [
    "a = np.array([1,2,3])\n",
    "b = np.array([3,2,3])"
   ]
  },
  {
   "cell_type": "code",
   "execution_count": 17,
   "id": "f6386567",
   "metadata": {},
   "outputs": [
    {
     "data": {
      "text/plain": [
       "array([[1, 3],\n",
       "       [2, 2],\n",
       "       [3, 3]])"
      ]
     },
     "execution_count": 17,
     "metadata": {},
     "output_type": "execute_result"
    }
   ],
   "source": [
    "# 배열 : column_stack()\n",
    "np.column_stack((a,b))"
   ]
  },
  {
   "cell_type": "code",
   "execution_count": 18,
   "id": "8c1cae7d",
   "metadata": {},
   "outputs": [],
   "source": [
    "c = np.array([4,6,5])"
   ]
  },
  {
   "cell_type": "code",
   "execution_count": 19,
   "id": "8773f632",
   "metadata": {},
   "outputs": [
    {
     "data": {
      "text/plain": [
       "array([[1, 3, 4],\n",
       "       [2, 2, 6],\n",
       "       [3, 3, 5]])"
      ]
     },
     "execution_count": 19,
     "metadata": {},
     "output_type": "execute_result"
    }
   ],
   "source": [
    "np.column_stack((a,b,c))"
   ]
  },
  {
   "cell_type": "code",
   "execution_count": 20,
   "id": "903637cb",
   "metadata": {},
   "outputs": [
    {
     "data": {
      "text/plain": [
       "array([0, 1, 2, 3, 4, 5, 6, 7, 8])"
      ]
     },
     "execution_count": 20,
     "metadata": {},
     "output_type": "execute_result"
    }
   ],
   "source": [
    "# 배열 쪼개기\n",
    "x = np.arange(9); x"
   ]
  },
  {
   "cell_type": "code",
   "execution_count": 22,
   "id": "b1625a5c",
   "metadata": {},
   "outputs": [
    {
     "data": {
      "text/plain": [
       "[array([0, 1, 2]), array([3, 4, 5]), array([6, 7, 8])]"
      ]
     },
     "execution_count": 22,
     "metadata": {},
     "output_type": "execute_result"
    }
   ],
   "source": [
    "np.split(x,3) # 각 값을 3등분해서 새로운 배열로 만들기"
   ]
  },
  {
   "cell_type": "code",
   "execution_count": 23,
   "id": "366a0ea9",
   "metadata": {},
   "outputs": [
    {
     "data": {
      "text/plain": [
       "[array([0, 1, 2]), array([3, 4, 5]), array([6, 7, 8])]"
      ]
     },
     "execution_count": 23,
     "metadata": {},
     "output_type": "execute_result"
    }
   ],
   "source": [
    "y = np.split(x, 3); y"
   ]
  },
  {
   "cell_type": "code",
   "execution_count": 24,
   "id": "71a88374",
   "metadata": {},
   "outputs": [
    {
     "name": "stdout",
     "output_type": "stream",
     "text": [
      "[0 1 2]\n",
      "[3 4 5]\n",
      "[6 7 8]\n"
     ]
    }
   ],
   "source": [
    "print(y[0])\n",
    "print(y[1])\n",
    "print(y[2])"
   ]
  },
  {
   "cell_type": "code",
   "execution_count": 26,
   "id": "7196d2ce",
   "metadata": {},
   "outputs": [
    {
     "data": {
      "text/plain": [
       "[array([0, 1, 2]), array([3]), array([4, 5, 6, 7, 8])]"
      ]
     },
     "execution_count": 26,
     "metadata": {},
     "output_type": "execute_result"
    }
   ],
   "source": [
    "# \n",
    "x2 = np.split(x,[3,4]) # [3,4] : x 배열의 인덱스 번호를 여러 개 선택 가능\n",
    "x2"
   ]
  },
  {
   "cell_type": "code",
   "execution_count": 28,
   "id": "65e85b80",
   "metadata": {},
   "outputs": [
    {
     "data": {
      "text/plain": [
       "[array([0, 1]), array([2, 3, 4]), array([5, 6]), array([7, 8])]"
      ]
     },
     "execution_count": 28,
     "metadata": {},
     "output_type": "execute_result"
    }
   ],
   "source": [
    "x3 = np.split(x, [2,5,7])\n",
    "x3"
   ]
  },
  {
   "cell_type": "code",
   "execution_count": 31,
   "id": "6f9f5cd2",
   "metadata": {},
   "outputs": [
    {
     "data": {
      "text/plain": [
       "[array([0, 1]), array([2, 3]), array([4, 5, 6, 7, 8]), array([], dtype=int32)]"
      ]
     },
     "execution_count": 31,
     "metadata": {},
     "output_type": "execute_result"
    }
   ],
   "source": [
    "x4 = np.split(x, [2,4,10]) # 없는 인덱스 번호로 나누는 것은 pass\n",
    "x4"
   ]
  },
  {
   "cell_type": "code",
   "execution_count": 33,
   "id": "3eeaf7f8",
   "metadata": {},
   "outputs": [
    {
     "data": {
      "text/plain": [
       "[array([0, 1]), array([2, 3]), array([4, 5, 6, 7, 8]), array([], dtype=int32)]"
      ]
     },
     "execution_count": 33,
     "metadata": {},
     "output_type": "execute_result"
    }
   ],
   "source": [
    "# split = array_split\n",
    "x5 = np.array_split(x,[2,4,10])\n",
    "x5"
   ]
  },
  {
   "cell_type": "code",
   "execution_count": 36,
   "id": "8fbc0738",
   "metadata": {},
   "outputs": [
    {
     "data": {
      "text/plain": [
       "array([[[ 0,  1,  2,  3],\n",
       "        [ 4,  5,  6,  7]],\n",
       "\n",
       "       [[ 8,  9, 10, 11],\n",
       "        [12, 13, 14, 15]]])"
      ]
     },
     "execution_count": 36,
     "metadata": {},
     "output_type": "execute_result"
    }
   ],
   "source": [
    "y = np.arange(16).reshape(2,2,4); y"
   ]
  },
  {
   "cell_type": "code",
   "execution_count": 38,
   "id": "62bac646",
   "metadata": {},
   "outputs": [
    {
     "data": {
      "text/plain": [
       "[array([[[ 0,  1],\n",
       "         [ 4,  5]],\n",
       " \n",
       "        [[ 8,  9],\n",
       "         [12, 13]]]),\n",
       " array([[[ 2,  3],\n",
       "         [ 6,  7]],\n",
       " \n",
       "        [[10, 11],\n",
       "         [14, 15]]])]"
      ]
     },
     "execution_count": 38,
     "metadata": {},
     "output_type": "execute_result"
    }
   ],
   "source": [
    "# dsplit : 다른 차원을 같은 열 기준으로 같이 나눠서 묶기\n",
    "y1 = np.dsplit(y, 2); y1"
   ]
  },
  {
   "cell_type": "code",
   "execution_count": 39,
   "id": "15b7bafc",
   "metadata": {},
   "outputs": [
    {
     "data": {
      "text/plain": [
       "array([[ 0,  1,  2,  3],\n",
       "       [ 4,  5,  6,  7],\n",
       "       [ 8,  9, 10, 11],\n",
       "       [12, 13, 14, 15]])"
      ]
     },
     "execution_count": 39,
     "metadata": {},
     "output_type": "execute_result"
    }
   ],
   "source": [
    "z = np.arange(16).reshape(4, 4); z"
   ]
  },
  {
   "cell_type": "code",
   "execution_count": 41,
   "id": "eefa4f1f",
   "metadata": {},
   "outputs": [
    {
     "data": {
      "text/plain": [
       "[array([[ 0,  1],\n",
       "        [ 4,  5],\n",
       "        [ 8,  9],\n",
       "        [12, 13]]),\n",
       " array([[ 2,  3],\n",
       "        [ 6,  7],\n",
       "        [10, 11],\n",
       "        [14, 15]])]"
      ]
     },
     "execution_count": 41,
     "metadata": {},
     "output_type": "execute_result"
    }
   ],
   "source": [
    "# hsplit : 차원을 열별로 나누기\n",
    "z1 = np.hsplit(z, 2); z1"
   ]
  },
  {
   "cell_type": "code",
   "execution_count": 42,
   "id": "1dcb87a7",
   "metadata": {},
   "outputs": [
    {
     "data": {
      "text/plain": [
       "[array([[ 0,  1],\n",
       "        [ 4,  5],\n",
       "        [ 8,  9],\n",
       "        [12, 13]]),\n",
       " array([[ 2,  3],\n",
       "        [ 6,  7],\n",
       "        [10, 11],\n",
       "        [14, 15]]),\n",
       " array([], shape=(4, 0), dtype=int32)]"
      ]
     },
     "execution_count": 42,
     "metadata": {},
     "output_type": "execute_result"
    }
   ],
   "source": [
    "z2 = np.hsplit(z, [2,5]); z2 # 없는 부분은 넘어가서 출력"
   ]
  },
  {
   "cell_type": "code",
   "execution_count": 44,
   "id": "6746be8e",
   "metadata": {},
   "outputs": [
    {
     "data": {
      "text/plain": [
       "array([[[0, 1],\n",
       "        [2, 3]],\n",
       "\n",
       "       [[4, 5],\n",
       "        [6, 7]]])"
      ]
     },
     "execution_count": 44,
     "metadata": {},
     "output_type": "execute_result"
    }
   ],
   "source": [
    "# 고차원을 열 별로 나누기\n",
    "h = np.arange(8).reshape(2,2,2); h"
   ]
  },
  {
   "cell_type": "code",
   "execution_count": 45,
   "id": "be7d423f",
   "metadata": {},
   "outputs": [
    {
     "data": {
      "text/plain": [
       "[array([[[0, 1]],\n",
       " \n",
       "        [[4, 5]]]),\n",
       " array([[[2, 3]],\n",
       " \n",
       "        [[6, 7]]])]"
      ]
     },
     "execution_count": 45,
     "metadata": {},
     "output_type": "execute_result"
    }
   ],
   "source": [
    "h1 = np.hsplit(h,2); h1"
   ]
  },
  {
   "cell_type": "code",
   "execution_count": null,
   "id": "07478459",
   "metadata": {},
   "outputs": [],
   "source": [
    "'''\n",
    "# 요소에 대한 추가/ 삭제\n",
    "'''"
   ]
  },
  {
   "cell_type": "code",
   "execution_count": 46,
   "id": "0526ee5e",
   "metadata": {},
   "outputs": [],
   "source": [
    "import numpy as np"
   ]
  },
  {
   "cell_type": "code",
   "execution_count": 50,
   "id": "417cb2f3",
   "metadata": {},
   "outputs": [
    {
     "data": {
      "text/plain": [
       "array([[ 1,  2,  3,  4],\n",
       "       [ 5,  6,  7,  8],\n",
       "       [ 9, 10, 11, 12]])"
      ]
     },
     "execution_count": 50,
     "metadata": {},
     "output_type": "execute_result"
    }
   ],
   "source": [
    "# 삭제 : np.delete()\n",
    "arr = np.array([[1,2,3,4], [5,6,7,8], [9,10,11,12]]);\n",
    "arr"
   ]
  },
  {
   "cell_type": "code",
   "execution_count": 49,
   "id": "03ae1c9f",
   "metadata": {},
   "outputs": [
    {
     "data": {
      "text/plain": [
       "array([ 1,  3,  4,  5,  6,  7,  8,  9, 10, 11, 12])"
      ]
     },
     "execution_count": 49,
     "metadata": {},
     "output_type": "execute_result"
    }
   ],
   "source": [
    "arr1 = np.delete(arr, 1); arr1 \n",
    "# 전체를 한 집합으로 보고 인덱스 1번을 삭제"
   ]
  },
  {
   "cell_type": "code",
   "execution_count": 51,
   "id": "38cdc98c",
   "metadata": {},
   "outputs": [
    {
     "data": {
      "text/plain": [
       "array([[ 1,  2,  3,  4],\n",
       "       [ 9, 10, 11, 12]])"
      ]
     },
     "execution_count": 51,
     "metadata": {},
     "output_type": "execute_result"
    }
   ],
   "source": [
    "arr2 = np.delete(arr, 1, 0); arr2"
   ]
  },
  {
   "cell_type": "code",
   "execution_count": 52,
   "id": "8d59d4ed",
   "metadata": {},
   "outputs": [
    {
     "data": {
      "text/plain": [
       "array([[ 1,  2,  4],\n",
       "       [ 5,  6,  8],\n",
       "       [ 9, 10, 12]])"
      ]
     },
     "execution_count": 52,
     "metadata": {},
     "output_type": "execute_result"
    }
   ],
   "source": [
    "arr3 = np.delete(arr,2,1); arr3"
   ]
  },
  {
   "cell_type": "code",
   "execution_count": null,
   "id": "bea9da0e",
   "metadata": {},
   "outputs": [],
   "source": [
    "# 추가 : insert"
   ]
  },
  {
   "cell_type": "code",
   "execution_count": 53,
   "id": "beb19044",
   "metadata": {},
   "outputs": [
    {
     "data": {
      "text/plain": [
       "array([[1, 1],\n",
       "       [2, 2],\n",
       "       [3, 3]])"
      ]
     },
     "execution_count": 53,
     "metadata": {},
     "output_type": "execute_result"
    }
   ],
   "source": [
    "a = np.array([[1,1],[2,2],[3,3]]); a"
   ]
  },
  {
   "cell_type": "code",
   "execution_count": 54,
   "id": "acd36f86",
   "metadata": {},
   "outputs": [
    {
     "data": {
      "text/plain": [
       "array([  1, 100,   1,   2,   2,   3,   3])"
      ]
     },
     "execution_count": 54,
     "metadata": {},
     "output_type": "execute_result"
    }
   ],
   "source": [
    "a1 = np.insert(a,1,100); a1"
   ]
  },
  {
   "cell_type": "code",
   "execution_count": 55,
   "id": "ef54e5aa",
   "metadata": {},
   "outputs": [
    {
     "data": {
      "text/plain": [
       "array([[  1, 100,   1],\n",
       "       [  2, 100,   2],\n",
       "       [  3, 100,   3]])"
      ]
     },
     "execution_count": 55,
     "metadata": {},
     "output_type": "execute_result"
    }
   ],
   "source": [
    "a2 = np.insert(a,1,100,axis=1); a2"
   ]
  },
  {
   "cell_type": "code",
   "execution_count": 56,
   "id": "e255ae45",
   "metadata": {},
   "outputs": [
    {
     "data": {
      "text/plain": [
       "array([[  1,   1],\n",
       "       [100, 100],\n",
       "       [  2,   2],\n",
       "       [  3,   3]])"
      ]
     },
     "execution_count": 56,
     "metadata": {},
     "output_type": "execute_result"
    }
   ],
   "source": [
    "a3 = np.insert(a, 1, 100,axis = 0); a3"
   ]
  },
  {
   "cell_type": "code",
   "execution_count": 57,
   "id": "2c066689",
   "metadata": {},
   "outputs": [
    {
     "data": {
      "text/plain": [
       "array([[  1,   1],\n",
       "       [100, 100],\n",
       "       [  2,   2],\n",
       "       [  3,   3]])"
      ]
     },
     "execution_count": 57,
     "metadata": {},
     "output_type": "execute_result"
    }
   ],
   "source": [
    "a4 = np.insert(a, 1, 100,axis = 0); a4 # 서로 다른 값을 추가하려면 list로 지정"
   ]
  },
  {
   "cell_type": "code",
   "execution_count": null,
   "id": "0f33baa5",
   "metadata": {},
   "outputs": [],
   "source": [
    "# 추가 : append"
   ]
  },
  {
   "cell_type": "code",
   "execution_count": 58,
   "id": "59831d57",
   "metadata": {},
   "outputs": [
    {
     "data": {
      "text/plain": [
       "array([[1, 2, 3],\n",
       "       [4, 5, 6]])"
      ]
     },
     "execution_count": 58,
     "metadata": {},
     "output_type": "execute_result"
    }
   ],
   "source": [
    "b = np.array([[1,2,3],[4,5,6]]); b"
   ]
  },
  {
   "cell_type": "code",
   "execution_count": null,
   "id": "22b8a862",
   "metadata": {},
   "outputs": [],
   "source": []
  },
  {
   "cell_type": "code",
   "execution_count": 60,
   "id": "340a2d63",
   "metadata": {},
   "outputs": [
    {
     "data": {
      "text/plain": [
       "array([[1, 2, 3],\n",
       "       [4, 5, 6],\n",
       "       [7, 8, 9]])"
      ]
     },
     "execution_count": 60,
     "metadata": {},
     "output_type": "execute_result"
    }
   ],
   "source": [
    "b2 = np.append(b, [[7, 8,9]], axis=0); b2"
   ]
  },
  {
   "cell_type": "code",
   "execution_count": 61,
   "id": "8f3efe98",
   "metadata": {},
   "outputs": [
    {
     "data": {
      "text/plain": [
       "'\\n# 기타\\n\\n'"
      ]
     },
     "execution_count": 61,
     "metadata": {},
     "output_type": "execute_result"
    }
   ],
   "source": [
    "'''\n",
    "# 기타\n",
    "\n",
    "'''"
   ]
  },
  {
   "cell_type": "code",
   "execution_count": 63,
   "id": "ae775d45",
   "metadata": {},
   "outputs": [
    {
     "data": {
      "text/plain": [
       "array([[0, 1],\n",
       "       [2, 3]])"
      ]
     },
     "execution_count": 63,
     "metadata": {},
     "output_type": "execute_result"
    }
   ],
   "source": [
    "# resize\n",
    "x = np.array([[0,1],[2,3]]); x "
   ]
  },
  {
   "cell_type": "code",
   "execution_count": 64,
   "id": "a23fb8ad",
   "metadata": {},
   "outputs": [
    {
     "data": {
      "text/plain": [
       "array([[0, 1, 2],\n",
       "       [3, 0, 1]])"
      ]
     },
     "execution_count": 64,
     "metadata": {},
     "output_type": "execute_result"
    }
   ],
   "source": [
    "# 2행 3열로 재배치\n",
    "x1 = np.resize(x,(2,3)); x1"
   ]
  },
  {
   "cell_type": "code",
   "execution_count": 65,
   "id": "69221cb3",
   "metadata": {},
   "outputs": [
    {
     "data": {
      "text/plain": [
       "array([[0, 1, 2, 3],\n",
       "       [0, 1, 2, 3]])"
      ]
     },
     "execution_count": 65,
     "metadata": {},
     "output_type": "execute_result"
    }
   ],
   "source": [
    "# 2행 4열로 재배치\n",
    "x2 = np.resize(x, (2,4)); x2"
   ]
  },
  {
   "cell_type": "code",
   "execution_count": 66,
   "id": "af96c5de",
   "metadata": {},
   "outputs": [
    {
     "data": {
      "text/plain": [
       "array([0, 0, 0, 1, 2, 3, 0, 1, 2, 0, 0])"
      ]
     },
     "execution_count": 66,
     "metadata": {},
     "output_type": "execute_result"
    }
   ],
   "source": [
    "# trim_zeros : 0제거\n",
    "x = np.array([0,0,0,1,2,3,0,1,2,0,0]); x"
   ]
  },
  {
   "cell_type": "code",
   "execution_count": 67,
   "id": "c806453d",
   "metadata": {},
   "outputs": [
    {
     "data": {
      "text/plain": [
       "array([1, 2, 3, 0, 1, 2])"
      ]
     },
     "execution_count": 67,
     "metadata": {},
     "output_type": "execute_result"
    }
   ],
   "source": [
    "x1 = np.trim_zeros(x); x1 #default : 좌우에 연속된 0을 제거"
   ]
  },
  {
   "cell_type": "code",
   "execution_count": 68,
   "id": "88ac7681",
   "metadata": {},
   "outputs": [
    {
     "data": {
      "text/plain": [
       "array([1, 2, 3, 0, 1, 2, 0, 0])"
      ]
     },
     "execution_count": 68,
     "metadata": {},
     "output_type": "execute_result"
    }
   ],
   "source": [
    "x2 = np.trim_zeros(x, 'f') # f:front / 'b': back\n",
    "x2"
   ]
  },
  {
   "cell_type": "code",
   "execution_count": 69,
   "id": "cf9962bb",
   "metadata": {},
   "outputs": [
    {
     "data": {
      "text/plain": [
       "array([1, 1, 2, 1, 2, 2, 3, 3, 3])"
      ]
     },
     "execution_count": 69,
     "metadata": {},
     "output_type": "execute_result"
    }
   ],
   "source": [
    "# unique\n",
    "x = np.array([1,1,2,1,2,2,3,3,3]); x"
   ]
  },
  {
   "cell_type": "code",
   "execution_count": 70,
   "id": "aa88ba97",
   "metadata": {},
   "outputs": [
    {
     "data": {
      "text/plain": [
       "array([1, 2, 3])"
      ]
     },
     "execution_count": 70,
     "metadata": {},
     "output_type": "execute_result"
    }
   ],
   "source": [
    "x1 = np.unique(x); x1"
   ]
  },
  {
   "cell_type": "code",
   "execution_count": 72,
   "id": "28240c1c",
   "metadata": {},
   "outputs": [
    {
     "data": {
      "text/plain": [
       "array([[1, 1],\n",
       "       [2, 3]])"
      ]
     },
     "execution_count": 72,
     "metadata": {},
     "output_type": "execute_result"
    }
   ],
   "source": [
    "x = np.array([[1,1], [2,3]]); x"
   ]
  },
  {
   "cell_type": "code",
   "execution_count": 73,
   "id": "4e8cf0bb",
   "metadata": {},
   "outputs": [
    {
     "data": {
      "text/plain": [
       "array([1, 2, 3])"
      ]
     },
     "execution_count": 73,
     "metadata": {},
     "output_type": "execute_result"
    }
   ],
   "source": [
    "x1 = np.unique(x); x1"
   ]
  },
  {
   "cell_type": "code",
   "execution_count": 74,
   "id": "944902ac",
   "metadata": {},
   "outputs": [
    {
     "data": {
      "text/plain": [
       "array([[1, 0, 0],\n",
       "       [1, 0, 0],\n",
       "       [2, 3, 4]])"
      ]
     },
     "execution_count": 74,
     "metadata": {},
     "output_type": "execute_result"
    }
   ],
   "source": [
    "x = np.array([[1,0,0],[1,0,0],[2,3,4]]); x"
   ]
  },
  {
   "cell_type": "code",
   "execution_count": 76,
   "id": "6433d2f8",
   "metadata": {},
   "outputs": [
    {
     "data": {
      "text/plain": [
       "array([0, 1, 2, 3, 4])"
      ]
     },
     "execution_count": 76,
     "metadata": {},
     "output_type": "execute_result"
    }
   ],
   "source": [
    "x2 = np.unique(x); x2"
   ]
  },
  {
   "cell_type": "code",
   "execution_count": 77,
   "id": "92748851",
   "metadata": {},
   "outputs": [
    {
     "data": {
      "text/plain": [
       "array([[1, 0, 0],\n",
       "       [2, 3, 4]])"
      ]
     },
     "execution_count": 77,
     "metadata": {},
     "output_type": "execute_result"
    }
   ],
   "source": [
    "x3 = np.unique(x, axis=0); x3"
   ]
  },
  {
   "cell_type": "code",
   "execution_count": null,
   "id": "067dc87e",
   "metadata": {},
   "outputs": [],
   "source": [
    "# 데이터 카운팅 : unique (return_counts)"
   ]
  },
  {
   "cell_type": "code",
   "execution_count": 8,
   "id": "48418491",
   "metadata": {},
   "outputs": [
    {
     "data": {
      "text/plain": [
       "[1, 1, 2, 2, 3, 3]"
      ]
     },
     "execution_count": 8,
     "metadata": {},
     "output_type": "execute_result"
    }
   ],
   "source": [
    "x4 = ([1,1,2,2,3,3]); x4"
   ]
  },
  {
   "cell_type": "code",
   "execution_count": 9,
   "id": "f8a51e55",
   "metadata": {},
   "outputs": [
    {
     "data": {
      "text/plain": [
       "(array([1, 2, 3]), array([2, 3, 2], dtype=int64))"
      ]
     },
     "execution_count": 9,
     "metadata": {},
     "output_type": "execute_result"
    }
   ],
   "source": [
    "x5 = np.array([1,1,2,2,2,3,3])\n",
    "x6 = np.unique(x5, return_counts=True); x6"
   ]
  },
  {
   "cell_type": "code",
   "execution_count": 11,
   "id": "66305809",
   "metadata": {},
   "outputs": [
    {
     "name": "stdout",
     "output_type": "stream",
     "text": [
      "[1 2 3]\n",
      "[2 3 2]\n"
     ]
    }
   ],
   "source": [
    "data, count = x6\n",
    "print(data)\n",
    "print(count)"
   ]
  },
  {
   "cell_type": "code",
   "execution_count": null,
   "id": "701c5f63",
   "metadata": {},
   "outputs": [],
   "source": [
    "#bigcount"
   ]
  },
  {
   "cell_type": "code",
   "execution_count": null,
   "id": "7c2294b8",
   "metadata": {},
   "outputs": [],
   "source": []
  },
  {
   "cell_type": "code",
   "execution_count": null,
   "id": "676441fc",
   "metadata": {},
   "outputs": [],
   "source": [
    "# flip : 재정렬"
   ]
  },
  {
   "cell_type": "code",
   "execution_count": 78,
   "id": "65d1cb9a",
   "metadata": {},
   "outputs": [
    {
     "data": {
      "text/plain": [
       "array([[[0, 1],\n",
       "        [2, 3]],\n",
       "\n",
       "       [[4, 5],\n",
       "        [6, 7]]])"
      ]
     },
     "execution_count": 78,
     "metadata": {},
     "output_type": "execute_result"
    }
   ],
   "source": [
    "x = np.arange(8).reshape((2,2,2)); x"
   ]
  },
  {
   "cell_type": "code",
   "execution_count": 80,
   "id": "9126e461",
   "metadata": {},
   "outputs": [
    {
     "data": {
      "text/plain": [
       "array([[[4, 5],\n",
       "        [6, 7]],\n",
       "\n",
       "       [[0, 1],\n",
       "        [2, 3]]])"
      ]
     },
     "execution_count": 80,
     "metadata": {},
     "output_type": "execute_result"
    }
   ],
   "source": [
    "x1 = np.flip(x, 0); x1 # 차원 기준"
   ]
  },
  {
   "cell_type": "code",
   "execution_count": 81,
   "id": "43b79431",
   "metadata": {},
   "outputs": [
    {
     "data": {
      "text/plain": [
       "array([[[2, 3],\n",
       "        [0, 1]],\n",
       "\n",
       "       [[6, 7],\n",
       "        [4, 5]]])"
      ]
     },
     "execution_count": 81,
     "metadata": {},
     "output_type": "execute_result"
    }
   ],
   "source": [
    "x2 = np.flip(x, 1); x2 # 행 기준"
   ]
  },
  {
   "cell_type": "code",
   "execution_count": 82,
   "id": "7f146356",
   "metadata": {},
   "outputs": [
    {
     "data": {
      "text/plain": [
       "array([[[1, 0],\n",
       "        [3, 2]],\n",
       "\n",
       "       [[5, 4],\n",
       "        [7, 6]]])"
      ]
     },
     "execution_count": 82,
     "metadata": {},
     "output_type": "execute_result"
    }
   ],
   "source": [
    "x3 = np.flip(x, 2); x3 # 열 기준"
   ]
  },
  {
   "cell_type": "code",
   "execution_count": null,
   "id": "b7e58d69",
   "metadata": {},
   "outputs": [],
   "source": [
    "# fliplr # 좌우로 잡겠다. "
   ]
  },
  {
   "cell_type": "code",
   "execution_count": null,
   "id": "542e7b92",
   "metadata": {},
   "outputs": [],
   "source": [
    "# flipud"
   ]
  },
  {
   "cell_type": "code",
   "execution_count": 83,
   "id": "901d1593",
   "metadata": {},
   "outputs": [
    {
     "data": {
      "text/plain": [
       "array([[[4, 5],\n",
       "        [6, 7]],\n",
       "\n",
       "       [[0, 1],\n",
       "        [2, 3]]])"
      ]
     },
     "execution_count": 83,
     "metadata": {},
     "output_type": "execute_result"
    }
   ],
   "source": [
    "x1 = np.flipud(x); x1"
   ]
  },
  {
   "cell_type": "code",
   "execution_count": null,
   "id": "330f4a23",
   "metadata": {},
   "outputs": [],
   "source": [
    "# rot90 : 90도 만큼 배열 요소 회전(k : 90도를 몇번 회전, axes : 가로/세로)"
   ]
  },
  {
   "cell_type": "code",
   "execution_count": 84,
   "id": "94f88208",
   "metadata": {},
   "outputs": [
    {
     "data": {
      "text/plain": [
       "array([[1, 2],\n",
       "       [3, 4]])"
      ]
     },
     "execution_count": 84,
     "metadata": {},
     "output_type": "execute_result"
    }
   ],
   "source": [
    "r = np.array([[1,2], [3,4]]); r"
   ]
  },
  {
   "cell_type": "code",
   "execution_count": 86,
   "id": "1ebfe9e8",
   "metadata": {},
   "outputs": [
    {
     "data": {
      "text/plain": [
       "array([[2, 4],\n",
       "       [1, 3]])"
      ]
     },
     "execution_count": 86,
     "metadata": {},
     "output_type": "execute_result"
    }
   ],
   "source": [
    "r1 = np.rot90(r,1); r1 # 회전방향 : 반시계 방향"
   ]
  },
  {
   "cell_type": "code",
   "execution_count": 85,
   "id": "d8a6c531",
   "metadata": {},
   "outputs": [
    {
     "data": {
      "text/plain": [
       "array([[2, 4],\n",
       "       [1, 3]])"
      ]
     },
     "execution_count": 85,
     "metadata": {},
     "output_type": "execute_result"
    }
   ],
   "source": [
    "r2 = np.rot90(r); r2"
   ]
  },
  {
   "cell_type": "code",
   "execution_count": 87,
   "id": "4f2fb72a",
   "metadata": {},
   "outputs": [],
   "source": [
    "r3 = np.rot90(r,1,(1,0))"
   ]
  },
  {
   "cell_type": "code",
   "execution_count": null,
   "id": "116d6201",
   "metadata": {},
   "outputs": [],
   "source": []
  },
  {
   "cell_type": "code",
   "execution_count": null,
   "id": "fb2b5d2a",
   "metadata": {},
   "outputs": [],
   "source": []
  }
 ],
 "metadata": {
  "kernelspec": {
   "display_name": "Python 3",
   "language": "python",
   "name": "python3"
  },
  "language_info": {
   "codemirror_mode": {
    "name": "ipython",
    "version": 3
   },
   "file_extension": ".py",
   "mimetype": "text/x-python",
   "name": "python",
   "nbconvert_exporter": "python",
   "pygments_lexer": "ipython3",
   "version": "3.8.8"
  }
 },
 "nbformat": 4,
 "nbformat_minor": 5
}
