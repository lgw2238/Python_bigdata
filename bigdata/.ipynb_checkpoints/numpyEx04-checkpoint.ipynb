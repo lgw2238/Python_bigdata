{
 "cells": [
  {
   "cell_type": "markdown",
   "id": "d75fd51c",
   "metadata": {},
   "source": [
    "### 난수(random number)"
   ]
  },
  {
   "cell_type": "code",
   "execution_count": null,
   "id": "84150ee0",
   "metadata": {},
   "outputs": [],
   "source": [
    "'''\n",
    "# 난수 발생 : np.rand() - 0부터 1사이의 실수\n",
    "# seed(씨앗값) : \n",
    "\n",
    "\n",
    "\n",
    "'''"
   ]
  },
  {
   "cell_type": "code",
   "execution_count": 5,
   "id": "c9277536",
   "metadata": {},
   "outputs": [],
   "source": [
    "import numpy as np"
   ]
  },
  {
   "cell_type": "code",
   "execution_count": 2,
   "id": "f559729f",
   "metadata": {},
   "outputs": [
    {
     "data": {
      "text/plain": [
       "array([0.5488135 , 0.71518937, 0.60276338, 0.54488318, 0.4236548 ])"
      ]
     },
     "execution_count": 2,
     "metadata": {},
     "output_type": "execute_result"
    }
   ],
   "source": [
    "np.random.seed(0)\n",
    "np.random.rand(5)"
   ]
  },
  {
   "cell_type": "code",
   "execution_count": 3,
   "id": "323a1ac7",
   "metadata": {},
   "outputs": [
    {
     "data": {
      "text/plain": [
       "array([0.64589411, 0.43758721, 0.891773  , 0.96366276, 0.38344152])"
      ]
     },
     "execution_count": 3,
     "metadata": {},
     "output_type": "execute_result"
    }
   ],
   "source": [
    "np.random.rand(5)"
   ]
  },
  {
   "cell_type": "code",
   "execution_count": 4,
   "id": "47efa3eb",
   "metadata": {},
   "outputs": [
    {
     "data": {
      "text/plain": [
       "array([0.5488135 , 0.71518937, 0.60276338, 0.54488318, 0.4236548 ])"
      ]
     },
     "execution_count": 4,
     "metadata": {},
     "output_type": "execute_result"
    }
   ],
   "source": [
    "np.random.seed(0)\n",
    "np.random.rand(5)"
   ]
  },
  {
   "cell_type": "code",
   "execution_count": 5,
   "id": "3b7759d6",
   "metadata": {},
   "outputs": [
    {
     "data": {
      "text/plain": [
       "array([0.4359949 , 0.02592623, 0.54966248, 0.43532239, 0.4203678 ])"
      ]
     },
     "execution_count": 5,
     "metadata": {},
     "output_type": "execute_result"
    }
   ],
   "source": [
    "np.random.seed(2) # seed를 바꾸면 그때 그때 다른 난수사용가능\n",
    "np.random.rand(5)"
   ]
  },
  {
   "cell_type": "code",
   "execution_count": 6,
   "id": "46d81ee1",
   "metadata": {},
   "outputs": [
    {
     "name": "stdout",
     "output_type": "stream",
     "text": [
      "0.3303348210038741\n",
      "0.2046486340378425\n",
      "0.6192709663506637\n",
      "0.29965467367452314\n",
      "0.26682727510286663\n",
      "0.6211338327692949\n",
      "0.5291420942770391\n",
      "0.13457994534493356\n",
      "0.5135781212657464\n",
      "0.18443986564691528\n"
     ]
    }
   ],
   "source": [
    "for i in range(10):\n",
    "    print(np.random.rand())"
   ]
  },
  {
   "cell_type": "code",
   "execution_count": 7,
   "id": "07c311d5",
   "metadata": {},
   "outputs": [
    {
     "data": {
      "text/plain": [
       "array([0.78533515, 0.85397529, 0.49423684, 0.84656149, 0.07964548,\n",
       "       0.50524609, 0.0652865 , 0.42812233, 0.09653092, 0.12715997])"
      ]
     },
     "execution_count": 7,
     "metadata": {},
     "output_type": "execute_result"
    }
   ],
   "source": [
    "np.random.rand(10)"
   ]
  },
  {
   "cell_type": "code",
   "execution_count": 8,
   "id": "699d7a0c",
   "metadata": {},
   "outputs": [
    {
     "name": "stdout",
     "output_type": "stream",
     "text": [
      "[0 1 2 3 4 5 6 7 8 9]\n",
      "------------------------\n",
      "[5 3 8 6 7 0 1 9 4 2]\n"
     ]
    }
   ],
   "source": [
    "# shuffle \n",
    "x = np.arange(10)\n",
    "print(x)\n",
    "print('------------------------')\n",
    "np.random.shuffle(x)\n",
    "print(x)"
   ]
  },
  {
   "cell_type": "code",
   "execution_count": null,
   "id": "435cbb7e",
   "metadata": {},
   "outputs": [],
   "source": [
    "'''\n",
    "# 데이터 샘플링 : 이미 있는 데이터 집합에서 무작위로 선택하는 것 (sampling)\n",
    "# np.random.choice(원본데이터, size, replace=True/False, p)\n",
    "\n",
    "- 원본 데이터 : 정수\n",
    "- size : 샘플 숫자\n",
    "-replace : True이면 한 번 선택한 데이터를 다시 선택할 수 있음\n",
    "- p : 각 데이터가 선택될 수 있는 확률\n",
    "\n",
    "'''"
   ]
  },
  {
   "cell_type": "code",
   "execution_count": 9,
   "id": "7e9376e4",
   "metadata": {},
   "outputs": [
    {
     "data": {
      "text/plain": [
       "array([2, 3, 0, 4, 1])"
      ]
     },
     "execution_count": 9,
     "metadata": {},
     "output_type": "execute_result"
    }
   ],
   "source": [
    "x = np.random.choice(5,5,replace=False); x"
   ]
  },
  {
   "cell_type": "code",
   "execution_count": 12,
   "id": "461d2d79",
   "metadata": {},
   "outputs": [
    {
     "data": {
      "text/plain": [
       "array([4, 3, 0])"
      ]
     },
     "execution_count": 12,
     "metadata": {},
     "output_type": "execute_result"
    }
   ],
   "source": [
    "x1 = np.random.choice(5,3,replace=False); x1"
   ]
  },
  {
   "cell_type": "code",
   "execution_count": 13,
   "id": "fd9c527c",
   "metadata": {},
   "outputs": [
    {
     "ename": "ValueError",
     "evalue": "Cannot take a larger sample than population when 'replace=False'",
     "output_type": "error",
     "traceback": [
      "\u001b[1;31m---------------------------------------------------------------------------\u001b[0m",
      "\u001b[1;31mValueError\u001b[0m                                Traceback (most recent call last)",
      "\u001b[1;32m<ipython-input-13-a6baf2a670dc>\u001b[0m in \u001b[0;36m<module>\u001b[1;34m\u001b[0m\n\u001b[1;32m----> 1\u001b[1;33m \u001b[0mx2\u001b[0m \u001b[1;33m=\u001b[0m \u001b[0mnp\u001b[0m\u001b[1;33m.\u001b[0m\u001b[0mrandom\u001b[0m\u001b[1;33m.\u001b[0m\u001b[0mchoice\u001b[0m\u001b[1;33m(\u001b[0m\u001b[1;36m5\u001b[0m\u001b[1;33m,\u001b[0m\u001b[1;36m10\u001b[0m\u001b[1;33m,\u001b[0m\u001b[0mreplace\u001b[0m\u001b[1;33m=\u001b[0m\u001b[1;32mFalse\u001b[0m\u001b[1;33m)\u001b[0m\u001b[1;33m;\u001b[0m \u001b[0mx2\u001b[0m\u001b[1;33m\u001b[0m\u001b[1;33m\u001b[0m\u001b[0m\n\u001b[0m",
      "\u001b[1;32mmtrand.pyx\u001b[0m in \u001b[0;36mnumpy.random.mtrand.RandomState.choice\u001b[1;34m()\u001b[0m\n",
      "\u001b[1;31mValueError\u001b[0m: Cannot take a larger sample than population when 'replace=False'"
     ]
    }
   ],
   "source": [
    "x2 = np.random.choice(5,10,replace=False); x2"
   ]
  },
  {
   "cell_type": "code",
   "execution_count": 14,
   "id": "15016938",
   "metadata": {},
   "outputs": [
    {
     "data": {
      "text/plain": [
       "array([1, 1, 1, 4, 2, 3, 0, 3, 0, 2])"
      ]
     },
     "execution_count": 14,
     "metadata": {},
     "output_type": "execute_result"
    }
   ],
   "source": [
    "x2 = np.random.choice(5, 10, replace=True); x2 #replace=True : 재사용이 가능하다, \n",
    "# 재사용을 하면 원본데이터보다 더 많은 값 추출 가능"
   ]
  },
  {
   "cell_type": "code",
   "execution_count": null,
   "id": "16181534",
   "metadata": {},
   "outputs": [],
   "source": [
    "x3 = np.random.choice(5, 10, replace=True, p=[0.1,0,0,0.3,0.6]); x3 # 요소별 선택 확률도 부여"
   ]
  },
  {
   "cell_type": "code",
   "execution_count": null,
   "id": "4ebab632",
   "metadata": {},
   "outputs": [],
   "source": [
    "'''\n",
    "# rand() : 0~1 실수 균일 분포\n",
    "# randn() : 0~1 실수 가우시안 표준 정규 분포\n",
    "# randint() : 균일분포 정수 - 난수\n",
    " - randint(low, high, size)\n",
    "    -- size : 난수의 갯수\n",
    "    \n",
    "'''"
   ]
  },
  {
   "cell_type": "code",
   "execution_count": 15,
   "id": "dcf7810b",
   "metadata": {},
   "outputs": [
    {
     "data": {
      "text/plain": [
       "array([0.31529748, 0.25873317, 0.80917529, 0.35367538, 0.46784249])"
      ]
     },
     "execution_count": 15,
     "metadata": {},
     "output_type": "execute_result"
    }
   ],
   "source": [
    "np.random.rand(5)"
   ]
  },
  {
   "cell_type": "code",
   "execution_count": 16,
   "id": "960fe82e",
   "metadata": {},
   "outputs": [
    {
     "data": {
      "text/plain": [
       "array([[0.27417326, 0.79820039, 0.81413841, 0.94809042, 0.82288464],\n",
       "       [0.51513912, 0.22099815, 0.74663141, 0.43153777, 0.88830375],\n",
       "       [0.9411933 , 0.50301225, 0.70204204, 0.70654201, 0.48102176]])"
      ]
     },
     "execution_count": 16,
     "metadata": {},
     "output_type": "execute_result"
    }
   ],
   "source": [
    "np.random.rand(3, 5)"
   ]
  },
  {
   "cell_type": "code",
   "execution_count": 18,
   "id": "b5950294",
   "metadata": {},
   "outputs": [
    {
     "data": {
      "text/plain": [
       "array([-0.03957024,  0.32600343, -2.04032305,  0.04625552, -0.67767558,\n",
       "       -1.43943903,  0.52429643,  0.73527958, -0.65325027,  0.84245628])"
      ]
     },
     "execution_count": 18,
     "metadata": {},
     "output_type": "execute_result"
    }
   ],
   "source": [
    "np.random.randn(10)"
   ]
  },
  {
   "cell_type": "code",
   "execution_count": 17,
   "id": "1ee343c5",
   "metadata": {},
   "outputs": [
    {
     "data": {
      "text/plain": [
       "array([42, 26, 31, 39, 26])"
      ]
     },
     "execution_count": 17,
     "metadata": {},
     "output_type": "execute_result"
    }
   ],
   "source": [
    "np.random.randint(10,50,5)"
   ]
  },
  {
   "cell_type": "code",
   "execution_count": 29,
   "id": "8bd23a31",
   "metadata": {},
   "outputs": [
    {
     "data": {
      "text/plain": [
       "array([23, 20, 32, 18,  9, 38])"
      ]
     },
     "execution_count": 29,
     "metadata": {},
     "output_type": "execute_result"
    }
   ],
   "source": [
    "# 로또번호 6개 구해보세요\n",
    "\n",
    "np.random.randint(1,46,6)"
   ]
  },
  {
   "cell_type": "code",
   "execution_count": 4,
   "id": "311685c1",
   "metadata": {},
   "outputs": [
    {
     "data": {
      "text/plain": [
       "array([[28, 37,  1, 20, 43, 19],\n",
       "       [20,  2, 22, 25, 27, 38],\n",
       "       [ 3, 45,  4, 23, 43, 30],\n",
       "       [41, 40, 35, 11,  8,  3],\n",
       "       [26, 40,  4, 19, 29, 43]])"
      ]
     },
     "execution_count": 4,
     "metadata": {},
     "output_type": "execute_result"
    }
   ],
   "source": [
    "# 로또 5천원 어치 구해보세요.\n",
    "\n",
    "np.random.randint(1,46, [5,6])"
   ]
  },
  {
   "cell_type": "code",
   "execution_count": 3,
   "id": "5780aa2e",
   "metadata": {},
   "outputs": [
    {
     "data": {
      "text/plain": [
       "array([[1.39876089e-311, 3.16202013e-322, 0.00000000e+000],\n",
       "       [0.00000000e+000, 4.00766127e+175, 9.96536156e-043],\n",
       "       [1.51073576e+160, 6.82059259e-067, 3.14130502e-032],\n",
       "       [1.24476417e-047, 1.57433965e+161, 1.16440535e+165]])"
      ]
     },
     "execution_count": 3,
     "metadata": {},
     "output_type": "execute_result"
    }
   ],
   "source": [
    "# cf) 큰 값을 선언하지 않고 배열로 만드는 방법\n",
    "\n",
    "np.empty((4, 3))\n"
   ]
  },
  {
   "cell_type": "code",
   "execution_count": null,
   "id": "c708d06d",
   "metadata": {},
   "outputs": [],
   "source": []
  },
  {
   "cell_type": "code",
   "execution_count": null,
   "id": "31b1b0ea",
   "metadata": {},
   "outputs": [],
   "source": []
  },
  {
   "cell_type": "code",
   "execution_count": null,
   "id": "98b3a1ac",
   "metadata": {},
   "outputs": [],
   "source": []
  },
  {
   "cell_type": "code",
   "execution_count": null,
   "id": "859eed19",
   "metadata": {},
   "outputs": [],
   "source": []
  },
  {
   "cell_type": "code",
   "execution_count": null,
   "id": "d09c03c3",
   "metadata": {},
   "outputs": [],
   "source": []
  }
 ],
 "metadata": {
  "kernelspec": {
   "display_name": "Python 3",
   "language": "python",
   "name": "python3"
  },
  "language_info": {
   "codemirror_mode": {
    "name": "ipython",
    "version": 3
   },
   "file_extension": ".py",
   "mimetype": "text/x-python",
   "name": "python",
   "nbconvert_exporter": "python",
   "pygments_lexer": "ipython3",
   "version": "3.8.8"
  }
 },
 "nbformat": 4,
 "nbformat_minor": 5
}
