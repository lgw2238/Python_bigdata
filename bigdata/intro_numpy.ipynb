{
 "cells": [
  {
   "cell_type": "code",
   "execution_count": 38,
   "id": "4b04319e",
   "metadata": {},
   "outputs": [],
   "source": [
    "import numpy as np"
   ]
  },
  {
   "cell_type": "code",
   "execution_count": 39,
   "id": "3e89a4f3",
   "metadata": {},
   "outputs": [
    {
     "data": {
      "text/plain": [
       "'\\n# numpy : 고성능 과학(수치) 계산을 위한 데이터분석(수치분석) 패키지\\n    - 벡터 산술연산\\n    - 다차원 배열 (ndarray)\\n    - 표준 수학 함수\\n    - 선형대수, 난수\\n\\n# numpy 배열 : 같은 종류의 데이터를 담는 자료형(동일한 타입의 값)\\n\\n -rank : 배열 차원 (ndim)\\n -shape : 각 차원의 크기를 튜플로 리턴 (행, 열)\\n -dtype : 배열에 저장된 자료를 알려주는 객체\\n \\n# ndarray : 다차원 배열 객체\\n - array() : 배열 생성 \\n - range() : 배열 생성 시 지정 값까지 자동 생성\\n - reshape() : 배열 모양 변경\\n - zeros() : 0이 들어있는 배열 생성\\n - ones() : 1이 들어있는 배열 생성\\n - full(): 모든 값이 특정 상수인 배열 생성 \\n - eye() : 단위 행렬 생성\\n  \\n'"
      ]
     },
     "execution_count": 39,
     "metadata": {},
     "output_type": "execute_result"
    }
   ],
   "source": [
    "'''\n",
    "# numpy : 고성능 과학(수치) 계산을 위한 데이터분석(수치분석) 패키지\n",
    "    - 벡터 산술연산\n",
    "    - 다차원 배열 (ndarray)\n",
    "    - 표준 수학 함수\n",
    "    - 선형대수, 난수\n",
    "\n",
    "# numpy 배열 : 같은 종류의 데이터를 담는 자료형(동일한 타입의 값)\n",
    "\n",
    " -rank : 배열 차원 (ndim)\n",
    " -shape : 각 차원의 크기를 튜플로 리턴 (행, 열)\n",
    " -dtype : 배열에 저장된 자료를 알려주는 객체\n",
    " \n",
    "# ndarray : 다차원 배열 객체\n",
    " - array() : 배열 생성 \n",
    " - range() : 배열 생성 시 지정 값까지 자동 생성\n",
    " - reshape() : 배열 모양 변경\n",
    " - zeros() : 0이 들어있는 배열 생성\n",
    " - ones() : 1이 들어있는 배열 생성\n",
    " - full(): 모든 값이 특정 상수인 배열 생성 \n",
    " - eye() : 단위 행렬 생성\n",
    "  \n",
    "'''"
   ]
  },
  {
   "cell_type": "code",
   "execution_count": 40,
   "id": "82e039c5",
   "metadata": {},
   "outputs": [],
   "source": [
    "import numpy as np"
   ]
  },
  {
   "cell_type": "code",
   "execution_count": 41,
   "id": "b16e66c8",
   "metadata": {},
   "outputs": [
    {
     "name": "stdout",
     "output_type": "stream",
     "text": [
      "[1 2 3]\n",
      "[1, 2, 3]\n"
     ]
    }
   ],
   "source": [
    "# rank가 1인 배열을 생성\n",
    "\n",
    "a = np.array([1,2,3])\n",
    "b= [1,2,3]\n",
    "\n",
    "print(a)\n",
    "print(b)"
   ]
  },
  {
   "cell_type": "code",
   "execution_count": 42,
   "id": "05a7770a",
   "metadata": {},
   "outputs": [
    {
     "name": "stdout",
     "output_type": "stream",
     "text": [
      "<class 'numpy.ndarray'>\n",
      "<class 'list'>\n"
     ]
    }
   ],
   "source": [
    "print(type(a))\n",
    "print(type(b))"
   ]
  },
  {
   "cell_type": "code",
   "execution_count": 43,
   "id": "1395fe56",
   "metadata": {},
   "outputs": [
    {
     "data": {
      "text/plain": [
       "(3,)"
      ]
     },
     "execution_count": 43,
     "metadata": {},
     "output_type": "execute_result"
    }
   ],
   "source": [
    "a.shape"
   ]
  },
  {
   "cell_type": "code",
   "execution_count": 44,
   "id": "94b36e97",
   "metadata": {},
   "outputs": [
    {
     "data": {
      "text/plain": [
       "1"
      ]
     },
     "execution_count": 44,
     "metadata": {},
     "output_type": "execute_result"
    }
   ],
   "source": [
    "a.ndim"
   ]
  },
  {
   "cell_type": "code",
   "execution_count": 45,
   "id": "03a814d6",
   "metadata": {},
   "outputs": [
    {
     "data": {
      "text/plain": [
       "array([[1, 2, 3],\n",
       "       [4, 5, 6]])"
      ]
     },
     "execution_count": 45,
     "metadata": {},
     "output_type": "execute_result"
    }
   ],
   "source": [
    "# 2차원 배열을 생성\n",
    "b = np.array([[1,2,3],[4,5,6]])\n",
    "b"
   ]
  },
  {
   "cell_type": "code",
   "execution_count": 46,
   "id": "8276f394",
   "metadata": {},
   "outputs": [
    {
     "data": {
      "text/plain": [
       "dtype('int32')"
      ]
     },
     "execution_count": 46,
     "metadata": {},
     "output_type": "execute_result"
    }
   ],
   "source": [
    "b.dtype"
   ]
  },
  {
   "cell_type": "code",
   "execution_count": 47,
   "id": "c2b43cee",
   "metadata": {},
   "outputs": [
    {
     "data": {
      "text/plain": [
       "dtype('int32')"
      ]
     },
     "execution_count": 47,
     "metadata": {},
     "output_type": "execute_result"
    }
   ],
   "source": [
    "a.dtype  # 배열에 저장된 자료의 type"
   ]
  },
  {
   "cell_type": "code",
   "execution_count": 48,
   "id": "127706a1",
   "metadata": {},
   "outputs": [
    {
     "data": {
      "text/plain": [
       "4"
      ]
     },
     "execution_count": 48,
     "metadata": {},
     "output_type": "execute_result"
    }
   ],
   "source": [
    "a.itemsize # 각 배열 요소가 메모리 상에 차지하고 있는 크기 : 보통 int는 4byte..."
   ]
  },
  {
   "cell_type": "code",
   "execution_count": 49,
   "id": "12812df3",
   "metadata": {},
   "outputs": [
    {
     "data": {
      "text/plain": [
       "array([ 0,  1,  2,  3,  4,  5,  6,  7,  8,  9, 10, 11])"
      ]
     },
     "execution_count": 49,
     "metadata": {},
     "output_type": "execute_result"
    }
   ],
   "source": [
    "arr = np.arange(12)\n",
    "arr"
   ]
  },
  {
   "cell_type": "code",
   "execution_count": 50,
   "id": "58045d1e",
   "metadata": {},
   "outputs": [
    {
     "data": {
      "text/plain": [
       "array([ 0,  1,  2,  3,  4,  5,  6,  7,  8,  9, 10, 11])"
      ]
     },
     "execution_count": 50,
     "metadata": {},
     "output_type": "execute_result"
    }
   ],
   "source": [
    "arr = np.arange(12); arr"
   ]
  },
  {
   "cell_type": "code",
   "execution_count": 51,
   "id": "60045735",
   "metadata": {},
   "outputs": [
    {
     "ename": "SyntaxError",
     "evalue": "invalid syntax (<ipython-input-51-9a4f73c749d9>, line 2)",
     "output_type": "error",
     "traceback": [
      "\u001b[1;36m  File \u001b[1;32m\"<ipython-input-51-9a4f73c749d9>\"\u001b[1;36m, line \u001b[1;32m2\u001b[0m\n\u001b[1;33m    arr = np.arange(12).\u001b[0m\n\u001b[1;37m                        ^\u001b[0m\n\u001b[1;31mSyntaxError\u001b[0m\u001b[1;31m:\u001b[0m invalid syntax\n"
     ]
    }
   ],
   "source": [
    "# 3행 4열 형태로 만들기\n",
    "arr = np.arange(12)."
   ]
  },
  {
   "cell_type": "code",
   "execution_count": null,
   "id": "b449c251",
   "metadata": {},
   "outputs": [],
   "source": [
    "arr.reshape(-1)"
   ]
  },
  {
   "cell_type": "code",
   "execution_count": null,
   "id": "0be89ce1",
   "metadata": {},
   "outputs": [],
   "source": [
    "np.zeros((3,4))"
   ]
  },
  {
   "cell_type": "code",
   "execution_count": null,
   "id": "6aa099c1",
   "metadata": {},
   "outputs": [],
   "source": [
    "np.ones((3,3))"
   ]
  },
  {
   "cell_type": "code",
   "execution_count": null,
   "id": "ab6e4e5b",
   "metadata": {},
   "outputs": [],
   "source": [
    "np.full((3,3), 10)"
   ]
  },
  {
   "cell_type": "code",
   "execution_count": null,
   "id": "c498e12c",
   "metadata": {},
   "outputs": [],
   "source": [
    "np.eye(3)"
   ]
  },
  {
   "cell_type": "code",
   "execution_count": null,
   "id": "6b037e0f",
   "metadata": {},
   "outputs": [],
   "source": [
    "# 활용 - 임의의 데이터가 필요할 때\n",
    "np.random.random((2, 2))"
   ]
  },
  {
   "cell_type": "code",
   "execution_count": null,
   "id": "77709b54",
   "metadata": {},
   "outputs": [],
   "source": [
    "'''\n",
    "\n",
    "# 배열 인덱싱\n",
    "- 슬라이싱 : 파이썬 리스트를 다루는 것과 유사하게 numpy에서도 슬라이싱이 가능\n",
    "           : 슬라이싱된 배열은 원본 배열과 같은 데이터를 참조함. 그러므로 슬라이싱 된 배열을 \n",
    "           수정하면 원본 배열도 수정이 됨 \n",
    "           : numpy 배열을 슬라이싱하면 그 결과는 언제나 원본 배열의 부분 배열\n",
    "           \n",
    "           - 인덱싱 : numpy 배열 인덱싱은 팬시 인덱싱(fancy indexing)이라고도 함.\n",
    "                   : 배열 인덱싱의 유용한 기능 중 하나가 \n",
    "'''"
   ]
  },
  {
   "cell_type": "code",
   "execution_count": null,
   "id": "f9535fb2",
   "metadata": {},
   "outputs": [],
   "source": [
    "a = np.array([[1,2,3,4],[5,6,7,8],[9,10,11,12]])\n",
    "a"
   ]
  },
  {
   "cell_type": "code",
   "execution_count": null,
   "id": "cbd4e8a2",
   "metadata": {},
   "outputs": [],
   "source": [
    "# 1, 2, 5, 6을 가져오고 싶음.\n",
    "\n",
    "b = a[:2, :2]; b"
   ]
  },
  {
   "cell_type": "code",
   "execution_count": null,
   "id": "cd128cc9",
   "metadata": {},
   "outputs": [],
   "source": [
    "# (2, 3, 6, 7) 을 가져오고 싶음\n",
    "c = a[0:2, 1:3]; c"
   ]
  },
  {
   "cell_type": "code",
   "execution_count": null,
   "id": "84260ce6",
   "metadata": {},
   "outputs": [],
   "source": [
    "# 인덱싱\n",
    "print(b)\n",
    "print('---------------------')\n",
    "print(b[0,0])"
   ]
  },
  {
   "cell_type": "code",
   "execution_count": null,
   "id": "c254ba13",
   "metadata": {},
   "outputs": [],
   "source": [
    "b[0,0] = 100; b"
   ]
  },
  {
   "cell_type": "code",
   "execution_count": null,
   "id": "57d6bd4f",
   "metadata": {},
   "outputs": [],
   "source": [
    "a # a 원본 배열을 잘라간 b 부분 배열을 수정하면 원본 배열인 a에도 영향을 미침에 유의!"
   ]
  },
  {
   "cell_type": "code",
   "execution_count": null,
   "id": "671061e6",
   "metadata": {},
   "outputs": [],
   "source": [
    "# (5,6,7,8)을 가져오기   = 2번째 행을 가져오기\n",
    "d = a[1, :]; d"
   ]
  },
  {
   "cell_type": "code",
   "execution_count": null,
   "id": "af29d7bb",
   "metadata": {},
   "outputs": [],
   "source": [
    "print(d.ndim)\n",
    "print(d.shape)"
   ]
  },
  {
   "cell_type": "code",
   "execution_count": null,
   "id": "29601ea9",
   "metadata": {},
   "outputs": [],
   "source": [
    "# (2,6,10)을 가져오기 => 2번째 열을 가져오기\n",
    "e = a[:, 1]; e"
   ]
  },
  {
   "cell_type": "code",
   "execution_count": null,
   "id": "927e8754",
   "metadata": {},
   "outputs": [],
   "source": [
    "print(e.ndim)\n",
    "print(e.shape)"
   ]
  },
  {
   "cell_type": "code",
   "execution_count": null,
   "id": "d6b8f64a",
   "metadata": {},
   "outputs": [],
   "source": [
    "# (2, 6, 10)을 열 형태로 가져오기\n",
    "f = a[:, 1:2]; f"
   ]
  },
  {
   "cell_type": "code",
   "execution_count": null,
   "id": "bffb5390",
   "metadata": {},
   "outputs": [],
   "source": [
    "print(f.ndim)\n",
    "print(f.shape)"
   ]
  },
  {
   "cell_type": "code",
   "execution_count": null,
   "id": "f761d4fb",
   "metadata": {},
   "outputs": [],
   "source": [
    "#\n",
    "a = np.array([[1,2],[3,4],[5,6]]); a"
   ]
  },
  {
   "cell_type": "code",
   "execution_count": null,
   "id": "5a86c1ee",
   "metadata": {},
   "outputs": [],
   "source": [
    "a[[0,1,2],[0,1,0]]"
   ]
  },
  {
   "cell_type": "code",
   "execution_count": null,
   "id": "dabc6ea3",
   "metadata": {},
   "outputs": [],
   "source": [
    "b = a[[0,1,2],[0,1,0]]; b"
   ]
  },
  {
   "cell_type": "code",
   "execution_count": null,
   "id": "61432a91",
   "metadata": {},
   "outputs": [],
   "source": [
    "b.shape"
   ]
  },
  {
   "cell_type": "code",
   "execution_count": null,
   "id": "4c23fd2d",
   "metadata": {},
   "outputs": [],
   "source": [
    "# 정수 인덱싱\n",
    "a = np.array([1,2,3,4,5,6,7,8,9]); a"
   ]
  },
  {
   "cell_type": "code",
   "execution_count": null,
   "id": "be6b8567",
   "metadata": {},
   "outputs": [],
   "source": [
    "idx = np.array([0,0,0,0,1,1,1,1,2,2,2]); idx"
   ]
  },
  {
   "cell_type": "code",
   "execution_count": null,
   "id": "f213fb52",
   "metadata": {},
   "outputs": [],
   "source": [
    "a[idx]"
   ]
  },
  {
   "cell_type": "code",
   "execution_count": null,
   "id": "8a5f318e",
   "metadata": {},
   "outputs": [],
   "source": [
    "a"
   ]
  },
  {
   "cell_type": "code",
   "execution_count": null,
   "id": "c17f4160",
   "metadata": {},
   "outputs": [],
   "source": [
    "# 부울인덱싱\n",
    "a = np.array([[1,2],[3,4],[5,6]]); a"
   ]
  },
  {
   "cell_type": "code",
   "execution_count": null,
   "id": "cd576aff",
   "metadata": {},
   "outputs": [],
   "source": [
    "g = a[:, [True, False]]; g # 가져오고 싶은 열을 True"
   ]
  },
  {
   "cell_type": "code",
   "execution_count": null,
   "id": "2131d651",
   "metadata": {},
   "outputs": [],
   "source": [
    "g.shape"
   ]
  },
  {
   "cell_type": "code",
   "execution_count": null,
   "id": "8a3c598b",
   "metadata": {},
   "outputs": [],
   "source": [
    "'''\n",
    "배열 연산\n",
    "- 기본은 배열의 각 요소별로 동작.\n",
    "- 수학 함수 , 연산자, numpy 함수 모듈을 통해 배열 연산이 가능\n",
    "\n",
    "\n",
    "\n",
    "'''"
   ]
  },
  {
   "cell_type": "code",
   "execution_count": null,
   "id": "4cb98f3b",
   "metadata": {},
   "outputs": [],
   "source": [
    "x = np.array([[1,2], [3,4]])\n",
    "y = np.array([[5,6], [7,8]])"
   ]
  },
  {
   "cell_type": "code",
   "execution_count": null,
   "id": "ca1329dc",
   "metadata": {},
   "outputs": [],
   "source": [
    "print(x)\n",
    "print(y)"
   ]
  },
  {
   "cell_type": "code",
   "execution_count": null,
   "id": "8d5f13ba",
   "metadata": {},
   "outputs": [],
   "source": [
    "x+y"
   ]
  },
  {
   "cell_type": "code",
   "execution_count": null,
   "id": "63506b7c",
   "metadata": {},
   "outputs": [],
   "source": [
    "np.add(x, y)"
   ]
  },
  {
   "cell_type": "code",
   "execution_count": null,
   "id": "fe549f28",
   "metadata": {},
   "outputs": [],
   "source": [
    "np.multiply(x,y)"
   ]
  },
  {
   "cell_type": "code",
   "execution_count": null,
   "id": "d30d367f",
   "metadata": {},
   "outputs": [],
   "source": [
    "x/y"
   ]
  },
  {
   "cell_type": "code",
   "execution_count": null,
   "id": "c577923a",
   "metadata": {},
   "outputs": [],
   "source": [
    "np.divide(x,y)"
   ]
  },
  {
   "cell_type": "code",
   "execution_count": null,
   "id": "603a079d",
   "metadata": {},
   "outputs": [],
   "source": [
    "np.sqrt(x)"
   ]
  },
  {
   "cell_type": "code",
   "execution_count": null,
   "id": "45e13eed",
   "metadata": {},
   "outputs": [],
   "source": [
    "# 조건식도 가능\n",
    "x == 2"
   ]
  },
  {
   "cell_type": "code",
   "execution_count": null,
   "id": "7597b159",
   "metadata": {},
   "outputs": [],
   "source": [
    "y > 6"
   ]
  },
  {
   "cell_type": "code",
   "execution_count": null,
   "id": "0916f1d0",
   "metadata": {},
   "outputs": [],
   "source": [
    "# 논리 연산도 가능\n",
    "(X > 3) & (y > 6)"
   ]
  },
  {
   "cell_type": "code",
   "execution_count": null,
   "id": "10be9b77",
   "metadata": {},
   "outputs": [],
   "source": [
    "# 인덱싱 정리\n",
    "a = np.array([[1,2,3], [4,5,6], [7,8,9], [10,11,12]]); a"
   ]
  },
  {
   "cell_type": "code",
   "execution_count": null,
   "id": "a102c64e",
   "metadata": {},
   "outputs": [],
   "source": [
    "idx = np.array([0, 2, 0, 1]); idx"
   ]
  },
  {
   "cell_type": "code",
   "execution_count": null,
   "id": "6cea0168",
   "metadata": {},
   "outputs": [],
   "source": [
    "# 원본 배열 a의 각 행에서 인덱스에 일치하는 값을 추출\n",
    "a[np.arange(4), idx]"
   ]
  },
  {
   "cell_type": "code",
   "execution_count": null,
   "id": "565e2fe1",
   "metadata": {},
   "outputs": [],
   "source": [
    "# 원본 배열 a의 각 행에서 인덱스에 일치하는 값 추출하면서 연산하기\n",
    "b = a[np.arange(4), idx] *2\n",
    "b"
   ]
  },
  {
   "cell_type": "code",
   "execution_count": null,
   "id": "e881fa95",
   "metadata": {},
   "outputs": [],
   "source": [
    "# 부울 인덱싱으로 추출\n",
    "b = np.array([0,1,2,3,4,5,6,7,8,9]); b"
   ]
  },
  {
   "cell_type": "code",
   "execution_count": 52,
   "id": "f26f8658",
   "metadata": {},
   "outputs": [],
   "source": [
    "# 부울 인덱싱으로 짝수 구하기\n",
    "bol = np.array([True, False, True, False, True, False, True, False, True, False]); "
   ]
  },
  {
   "cell_type": "code",
   "execution_count": 53,
   "id": "6f21da9b",
   "metadata": {},
   "outputs": [
    {
     "data": {
      "text/plain": [
       "array([2, 4, 6])"
      ]
     },
     "execution_count": 53,
     "metadata": {},
     "output_type": "execute_result"
    }
   ],
   "source": [
    "b[b%2==0]"
   ]
  },
  {
   "cell_type": "code",
   "execution_count": null,
   "id": "594817b3",
   "metadata": {},
   "outputs": [],
   "source": [
    "'''\n",
    "# 결측치 : 없다, 잘못된 데이터\n",
    "# python : NaN(int), NULL(object)\n",
    "# numpy: nan\n",
    "\n",
    "\n",
    "'''"
   ]
  },
  {
   "cell_type": "code",
   "execution_count": 56,
   "id": "fa571eba",
   "metadata": {},
   "outputs": [
    {
     "data": {
      "text/plain": [
       "array([nan,  1.,  2., nan,  3.,  4.,  5.])"
      ]
     },
     "execution_count": 56,
     "metadata": {},
     "output_type": "execute_result"
    }
   ],
   "source": [
    "a = np.array([np.nan, 1,2, np.nan, 3,4,5]); a"
   ]
  },
  {
   "cell_type": "code",
   "execution_count": 58,
   "id": "93f158c1",
   "metadata": {},
   "outputs": [
    {
     "data": {
      "text/plain": [
       "array([ True, False, False,  True, False, False, False])"
      ]
     },
     "execution_count": 58,
     "metadata": {},
     "output_type": "execute_result"
    }
   ],
   "source": [
    "np.isnan(a)"
   ]
  },
  {
   "cell_type": "code",
   "execution_count": 59,
   "id": "ace0c45f",
   "metadata": {},
   "outputs": [
    {
     "data": {
      "text/plain": [
       "array([1., 2., 3., 4., 5.])"
      ]
     },
     "execution_count": 59,
     "metadata": {},
     "output_type": "execute_result"
    }
   ],
   "source": [
    "a[~np.isnan(a)]"
   ]
  },
  {
   "cell_type": "code",
   "execution_count": null,
   "id": "1c2b1f6f",
   "metadata": {},
   "outputs": [],
   "source": []
  },
  {
   "cell_type": "code",
   "execution_count": null,
   "id": "695d76ce",
   "metadata": {},
   "outputs": [],
   "source": []
  },
  {
   "cell_type": "code",
   "execution_count": null,
   "id": "f59318bf",
   "metadata": {},
   "outputs": [],
   "source": []
  },
  {
   "cell_type": "code",
   "execution_count": null,
   "id": "8069d293",
   "metadata": {},
   "outputs": [],
   "source": []
  },
  {
   "cell_type": "code",
   "execution_count": null,
   "id": "74956613",
   "metadata": {},
   "outputs": [],
   "source": []
  },
  {
   "cell_type": "code",
   "execution_count": null,
   "id": "2c14c9b4",
   "metadata": {},
   "outputs": [],
   "source": []
  },
  {
   "cell_type": "code",
   "execution_count": null,
   "id": "82a57ec6",
   "metadata": {},
   "outputs": [],
   "source": []
  },
  {
   "cell_type": "code",
   "execution_count": null,
   "id": "2667cd79",
   "metadata": {},
   "outputs": [],
   "source": []
  },
  {
   "cell_type": "code",
   "execution_count": null,
   "id": "c0b7e00a",
   "metadata": {},
   "outputs": [],
   "source": []
  },
  {
   "cell_type": "code",
   "execution_count": null,
   "id": "63a1b163",
   "metadata": {},
   "outputs": [],
   "source": []
  },
  {
   "cell_type": "code",
   "execution_count": null,
   "id": "c32053be",
   "metadata": {},
   "outputs": [],
   "source": []
  },
  {
   "cell_type": "code",
   "execution_count": null,
   "id": "a1ba2303",
   "metadata": {},
   "outputs": [],
   "source": []
  },
  {
   "cell_type": "code",
   "execution_count": null,
   "id": "61436c46",
   "metadata": {},
   "outputs": [],
   "source": []
  }
 ],
 "metadata": {
  "kernelspec": {
   "display_name": "Python 3",
   "language": "python",
   "name": "python3"
  },
  "language_info": {
   "codemirror_mode": {
    "name": "ipython",
    "version": 3
   },
   "file_extension": ".py",
   "mimetype": "text/x-python",
   "name": "python",
   "nbconvert_exporter": "python",
   "pygments_lexer": "ipython3",
   "version": "3.8.8"
  }
 },
 "nbformat": 4,
 "nbformat_minor": 5
}
